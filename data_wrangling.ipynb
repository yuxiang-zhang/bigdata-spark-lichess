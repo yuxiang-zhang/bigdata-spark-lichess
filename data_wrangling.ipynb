{
 "cells": [
  {
   "cell_type": "code",
   "execution_count": 1,
   "metadata": {
    "collapsed": true
   },
   "outputs": [],
   "source": [
    "from pyspark.sql import SparkSession\n",
    "import pyspark.sql.functions as F"
   ]
  },
  {
   "cell_type": "code",
   "execution_count": 2,
   "metadata": {
    "pycharm": {
     "name": "#%%\n"
    }
   },
   "outputs": [],
   "source": [
    "def init_spark():\n",
    "    return SparkSession \\\n",
    "        .builder \\\n",
    "        .master(\"local[4]\") \\\n",
    "        .appName(\"Chess Predict\") \\\n",
    "        .config(\"spark.some.config.option\", \"some-value\") \\\n",
    "        .getOrCreate()\n",
    "\n",
    "spark = init_spark()"
   ]
  },
  {
   "cell_type": "code",
   "execution_count": 3,
   "outputs": [],
   "source": [
    "seed = 42"
   ],
   "metadata": {
    "collapsed": false,
    "pycharm": {
     "name": "#%%\n"
    }
   }
  },
  {
   "cell_type": "markdown",
   "metadata": {
    "pycharm": {
     "name": "#%% md\n"
    }
   },
   "source": [
    "## Load Dataset"
   ]
  },
  {
   "cell_type": "code",
   "execution_count": 4,
   "metadata": {
    "pycharm": {
     "name": "#%%\n"
    }
   },
   "outputs": [],
   "source": [
    "df = spark.read.csv('data/games.csv', header=True, inferSchema=True)"
   ]
  },
  {
   "cell_type": "markdown",
   "source": [
    "## Data Inspection"
   ],
   "metadata": {
    "collapsed": false,
    "pycharm": {
     "name": "#%% md\n"
    }
   }
  },
  {
   "cell_type": "code",
   "execution_count": 5,
   "outputs": [],
   "source": [
    "import pandas as pd\n",
    "import numpy as np"
   ],
   "metadata": {
    "collapsed": false,
    "pycharm": {
     "name": "#%%\n"
    }
   }
  },
  {
   "cell_type": "code",
   "execution_count": 6,
   "outputs": [
    {
     "data": {
      "text/plain": "         id  rated    created_at  last_move_at  turns victory_status winner  \\\n0  TZJHLljE  False  1.504210e+12  1.504210e+12     13      outoftime  white   \n1  l1NXvwaE   True  1.504130e+12  1.504130e+12     16         resign  black   \n2  mIICvQHh   True  1.504130e+12  1.504130e+12     61           mate  white   \n3  kWKvrqYL   True  1.504110e+12  1.504110e+12     61           mate  white   \n4  9tXo1AUZ   True  1.504030e+12  1.504030e+12     95           mate  white   \n\n  increment_code       white_id  white_rating      black_id  black_rating  \\\n0           15+2       bourgris          1500          a-00          1191   \n1           5+10           a-00          1322     skinnerua          1261   \n2           5+10         ischia          1496          a-00          1500   \n3           20+0  daniamurashov          1439  adivanov2009          1454   \n4           30+3      nik221107          1523  adivanov2009          1469   \n\n                                               moves opening_eco  \\\n0  d4 d5 c4 c6 cxd5 e6 dxe6 fxe6 Nf3 Bb4+ Nc3 Ba5...         D10   \n1  d4 Nc6 e4 e5 f4 f6 dxe5 fxe5 fxe5 Nxe5 Qd4 Nc6...         B00   \n2  e4 e5 d3 d6 Be3 c6 Be2 b5 Nd2 a5 a4 c5 axb5 Nc...         C20   \n3  d4 d5 Nf3 Bf5 Nc3 Nf6 Bf4 Ng4 e3 Nc6 Be2 Qd7 O...         D02   \n4  e4 e5 Nf3 d6 d4 Nc6 d5 Nb4 a3 Na6 Nc3 Be7 b4 N...         C41   \n\n                             opening_name  opening_ply  \n0        Slav Defense: Exchange Variation            5  \n1  Nimzowitsch Defense: Kennedy Variation            4  \n2   King's Pawn Game: Leonardis Variation            3  \n3  Queen's Pawn Game: Zukertort Variation            3  \n4                        Philidor Defense            5  ",
      "text/html": "<div>\n<style scoped>\n    .dataframe tbody tr th:only-of-type {\n        vertical-align: middle;\n    }\n\n    .dataframe tbody tr th {\n        vertical-align: top;\n    }\n\n    .dataframe thead th {\n        text-align: right;\n    }\n</style>\n<table border=\"1\" class=\"dataframe\">\n  <thead>\n    <tr style=\"text-align: right;\">\n      <th></th>\n      <th>id</th>\n      <th>rated</th>\n      <th>created_at</th>\n      <th>last_move_at</th>\n      <th>turns</th>\n      <th>victory_status</th>\n      <th>winner</th>\n      <th>increment_code</th>\n      <th>white_id</th>\n      <th>white_rating</th>\n      <th>black_id</th>\n      <th>black_rating</th>\n      <th>moves</th>\n      <th>opening_eco</th>\n      <th>opening_name</th>\n      <th>opening_ply</th>\n    </tr>\n  </thead>\n  <tbody>\n    <tr>\n      <th>0</th>\n      <td>TZJHLljE</td>\n      <td>False</td>\n      <td>1.504210e+12</td>\n      <td>1.504210e+12</td>\n      <td>13</td>\n      <td>outoftime</td>\n      <td>white</td>\n      <td>15+2</td>\n      <td>bourgris</td>\n      <td>1500</td>\n      <td>a-00</td>\n      <td>1191</td>\n      <td>d4 d5 c4 c6 cxd5 e6 dxe6 fxe6 Nf3 Bb4+ Nc3 Ba5...</td>\n      <td>D10</td>\n      <td>Slav Defense: Exchange Variation</td>\n      <td>5</td>\n    </tr>\n    <tr>\n      <th>1</th>\n      <td>l1NXvwaE</td>\n      <td>True</td>\n      <td>1.504130e+12</td>\n      <td>1.504130e+12</td>\n      <td>16</td>\n      <td>resign</td>\n      <td>black</td>\n      <td>5+10</td>\n      <td>a-00</td>\n      <td>1322</td>\n      <td>skinnerua</td>\n      <td>1261</td>\n      <td>d4 Nc6 e4 e5 f4 f6 dxe5 fxe5 fxe5 Nxe5 Qd4 Nc6...</td>\n      <td>B00</td>\n      <td>Nimzowitsch Defense: Kennedy Variation</td>\n      <td>4</td>\n    </tr>\n    <tr>\n      <th>2</th>\n      <td>mIICvQHh</td>\n      <td>True</td>\n      <td>1.504130e+12</td>\n      <td>1.504130e+12</td>\n      <td>61</td>\n      <td>mate</td>\n      <td>white</td>\n      <td>5+10</td>\n      <td>ischia</td>\n      <td>1496</td>\n      <td>a-00</td>\n      <td>1500</td>\n      <td>e4 e5 d3 d6 Be3 c6 Be2 b5 Nd2 a5 a4 c5 axb5 Nc...</td>\n      <td>C20</td>\n      <td>King's Pawn Game: Leonardis Variation</td>\n      <td>3</td>\n    </tr>\n    <tr>\n      <th>3</th>\n      <td>kWKvrqYL</td>\n      <td>True</td>\n      <td>1.504110e+12</td>\n      <td>1.504110e+12</td>\n      <td>61</td>\n      <td>mate</td>\n      <td>white</td>\n      <td>20+0</td>\n      <td>daniamurashov</td>\n      <td>1439</td>\n      <td>adivanov2009</td>\n      <td>1454</td>\n      <td>d4 d5 Nf3 Bf5 Nc3 Nf6 Bf4 Ng4 e3 Nc6 Be2 Qd7 O...</td>\n      <td>D02</td>\n      <td>Queen's Pawn Game: Zukertort Variation</td>\n      <td>3</td>\n    </tr>\n    <tr>\n      <th>4</th>\n      <td>9tXo1AUZ</td>\n      <td>True</td>\n      <td>1.504030e+12</td>\n      <td>1.504030e+12</td>\n      <td>95</td>\n      <td>mate</td>\n      <td>white</td>\n      <td>30+3</td>\n      <td>nik221107</td>\n      <td>1523</td>\n      <td>adivanov2009</td>\n      <td>1469</td>\n      <td>e4 e5 Nf3 d6 d4 Nc6 d5 Nb4 a3 Na6 Nc3 Be7 b4 N...</td>\n      <td>C41</td>\n      <td>Philidor Defense</td>\n      <td>5</td>\n    </tr>\n  </tbody>\n</table>\n</div>"
     },
     "execution_count": 6,
     "metadata": {},
     "output_type": "execute_result"
    }
   ],
   "source": [
    "df.toPandas().head()"
   ],
   "metadata": {
    "collapsed": false,
    "pycharm": {
     "name": "#%%\n"
    }
   }
  },
  {
   "cell_type": "markdown",
   "source": [
    "### Inspect Datatypes"
   ],
   "metadata": {
    "collapsed": false,
    "pycharm": {
     "name": "#%% md\n"
    }
   }
  },
  {
   "cell_type": "code",
   "execution_count": 7,
   "outputs": [
    {
     "data": {
      "text/plain": "array([['id', 'rated', 'created_at', 'last_move_at', 'turns',\n        'victory_status', 'winner', 'increment_code', 'white_id',\n        'white_rating', 'black_id', 'black_rating', 'moves',\n        'opening_eco', 'opening_name', 'opening_ply'],\n       ['string', 'boolean', 'double', 'double', 'int', 'string',\n        'string', 'string', 'string', 'int', 'string', 'int', 'string',\n        'string', 'string', 'int']], dtype='<U14')"
     },
     "execution_count": 7,
     "metadata": {},
     "output_type": "execute_result"
    }
   ],
   "source": [
    "np.array(df.dtypes).T"
   ],
   "metadata": {
    "collapsed": false,
    "pycharm": {
     "name": "#%%\n"
    }
   }
  },
  {
   "cell_type": "code",
   "execution_count": 8,
   "outputs": [],
   "source": [
    "categorical = [feature for feature, dtype in df.dtypes if dtype in {'string', 'boolean'}]\n",
    "numerical = [feature for feature, dtype in df.dtypes if dtype in {'double', 'int'}]"
   ],
   "metadata": {
    "collapsed": false,
    "pycharm": {
     "name": "#%%\n"
    }
   }
  },
  {
   "cell_type": "code",
   "execution_count": 9,
   "outputs": [
    {
     "name": "stdout",
     "output_type": "stream",
     "text": [
      "Numerical features\n",
      "created_at          :13151 unique values\n",
      "last_move_at        :13186 unique values\n",
      "turns               :211 unique values\n",
      "white_rating        :1516 unique values\n",
      "black_rating        :1521 unique values\n",
      "opening_ply         :[28, 12, 22, 1, 13, 6, 16, 3, 20, 5, 19, 15, 9, 17, 4, 8, 7, 10, 24, 11, 14, 2, 18]\n"
     ]
    }
   ],
   "source": [
    "print('Numerical features')\n",
    "for col in numerical:\n",
    "    unique_values = df.select(col).distinct()\n",
    "    n_unique = unique_values.count()\n",
    "    if n_unique < 50:\n",
    "        print(f'{col:20s}:{[row[col] for row in unique_values.collect()]}')\n",
    "    else:\n",
    "        print(f'{col:20s}:{n_unique} unique values')"
   ],
   "metadata": {
    "collapsed": false,
    "pycharm": {
     "name": "#%%\n"
    }
   }
  },
  {
   "cell_type": "markdown",
   "source": [
    "- `created_at`: Timestamp in UTC\n",
    "- `last_move_at`: Timestamp in UTC\n",
    "- `turns`: Number of turns in the match\n",
    "- `white_rating`: white player rating\n",
    "- `black_rating`: black player rating\n",
    "- `opening_ply`: Number of plies used to set up opening"
   ],
   "metadata": {
    "collapsed": false,
    "pycharm": {
     "name": "#%% md\n"
    }
   }
  },
  {
   "cell_type": "code",
   "source": [
    "print('Categorical features')\n",
    "for col in categorical:\n",
    "    unique_values = df.select(col).distinct()\n",
    "    n_unique = unique_values.count()\n",
    "    if n_unique < 50:\n",
    "        print(f'{col:20s}:{[row[col] for row in unique_values.collect()]}')\n",
    "    else:\n",
    "        print(f'{col:20s}:{n_unique} unique values')"
   ],
   "metadata": {
    "collapsed": false,
    "pycharm": {
     "name": "#%%\n"
    }
   },
   "execution_count": 10,
   "outputs": [
    {
     "name": "stdout",
     "output_type": "stream",
     "text": [
      "Categorical features\n",
      "id                  :19113 unique values\n",
      "rated               :[True, False]\n",
      "victory_status      :['resign', 'outoftime', 'mate', 'draw']\n",
      "winner              :['white', 'black', 'draw']\n",
      "increment_code      :400 unique values\n",
      "white_id            :9438 unique values\n",
      "black_id            :9331 unique values\n",
      "moves               :18920 unique values\n",
      "opening_eco         :365 unique values\n",
      "opening_name        :1477 unique values\n"
     ]
    }
   ]
  },
  {
   "cell_type": "markdown",
   "source": [
    "- `id`: Game ID, uniquely identifies a match record\n",
    "- `rated`: If rated, the game result affects player ratings\n",
    "- `victory_status`: How the game ended\n",
    "- `winner`: Match winner\n",
    "- `increment_code`: Game time setting\n",
    "- `white_id`: white player id\n",
    "- `black_id`: black player id\n",
    "- `moves`: Sequence of moves recorded during the match\n",
    "- `opening_eco`: ECO classification code for the chess openings moves\n",
    "- `opening_name`: Name of opening moves"
   ],
   "metadata": {
    "collapsed": false,
    "pycharm": {
     "name": "#%% md\n"
    }
   }
  },
  {
   "cell_type": "markdown",
   "source": [
    "### Check for Anomalies"
   ],
   "metadata": {
    "collapsed": false,
    "pycharm": {
     "name": "#%% md\n"
    }
   }
  },
  {
   "cell_type": "code",
   "execution_count": 11,
   "outputs": [
    {
     "name": "stdout",
     "output_type": "stream",
     "text": [
      "unique samples / total samples: 19629 / 20058 \n"
     ]
    }
   ],
   "source": [
    "print( f'unique samples / total samples: {df.distinct().count()} / {df.count()} ' )"
   ],
   "metadata": {
    "collapsed": false,
    "pycharm": {
     "name": "#%%\n"
    }
   }
  },
  {
   "cell_type": "code",
   "execution_count": 12,
   "metadata": {},
   "outputs": [
    {
     "name": "stdout",
     "output_type": "stream",
     "text": [
      "Count Null Values in each Column\n"
     ]
    },
    {
     "data": {
      "text/plain": "   id  rated  created_at  last_move_at  turns  victory_status  winner  \\\n0   0      0           0             0      0               0       0   \n\n   increment_code  white_id  white_rating  black_id  black_rating  moves  \\\n0               0         0             0         0             0      0   \n\n   opening_eco  opening_name  opening_ply  \n0            0             0            0  ",
      "text/html": "<div>\n<style scoped>\n    .dataframe tbody tr th:only-of-type {\n        vertical-align: middle;\n    }\n\n    .dataframe tbody tr th {\n        vertical-align: top;\n    }\n\n    .dataframe thead th {\n        text-align: right;\n    }\n</style>\n<table border=\"1\" class=\"dataframe\">\n  <thead>\n    <tr style=\"text-align: right;\">\n      <th></th>\n      <th>id</th>\n      <th>rated</th>\n      <th>created_at</th>\n      <th>last_move_at</th>\n      <th>turns</th>\n      <th>victory_status</th>\n      <th>winner</th>\n      <th>increment_code</th>\n      <th>white_id</th>\n      <th>white_rating</th>\n      <th>black_id</th>\n      <th>black_rating</th>\n      <th>moves</th>\n      <th>opening_eco</th>\n      <th>opening_name</th>\n      <th>opening_ply</th>\n    </tr>\n  </thead>\n  <tbody>\n    <tr>\n      <th>0</th>\n      <td>0</td>\n      <td>0</td>\n      <td>0</td>\n      <td>0</td>\n      <td>0</td>\n      <td>0</td>\n      <td>0</td>\n      <td>0</td>\n      <td>0</td>\n      <td>0</td>\n      <td>0</td>\n      <td>0</td>\n      <td>0</td>\n      <td>0</td>\n      <td>0</td>\n      <td>0</td>\n    </tr>\n  </tbody>\n</table>\n</div>"
     },
     "execution_count": 12,
     "metadata": {},
     "output_type": "execute_result"
    }
   ],
   "source": [
    "print('Count Null Values in each Column')\n",
    "df.select([F.count(F.when(F.isnull(col), col)).alias(col) for col in df.columns]).toPandas()"
   ]
  },
  {
   "cell_type": "markdown",
   "source": [
    "- There are duplicate rows, which should be dropped from the dataset.\n",
    "- Luckily, this dataset does not contain missing values."
   ],
   "metadata": {
    "collapsed": false,
    "pycharm": {
     "name": "#%% md\n"
    }
   }
  },
  {
   "cell_type": "markdown",
   "source": [
    "## Data Preparation (Preprocessing)\n",
    "Scikit-Learn offers a range of useful methods for preprocessing and data splits. With the approval from the course instructor, we will transform the datasets into *Pandas DataFrames* in this part."
   ],
   "metadata": {
    "collapsed": false,
    "pycharm": {
     "name": "#%% md\n"
    }
   }
  },
  {
   "cell_type": "markdown",
   "source": [
    "### Fix Anomalies"
   ],
   "metadata": {
    "collapsed": false,
    "pycharm": {
     "name": "#%% md\n"
    }
   }
  },
  {
   "cell_type": "code",
   "execution_count": 13,
   "outputs": [],
   "source": [
    "# Drop Duplicates\n",
    "df = df.distinct()"
   ],
   "metadata": {
    "collapsed": false,
    "pycharm": {
     "name": "#%%\n"
    }
   }
  },
  {
   "cell_type": "markdown",
   "source": [
    "### Feature `opening_eco`\n",
    "As per inspection, each row of this feature is a concatenation of a letter that denotes an [opening moves category](https://www.365chess.com/eco.php). Although there are variations within each category, we assume that the opening moves in each category to be similar enough that we can ignore the differences within each opening move category. Therefore, we extract the first letter from `opening_eco` to a new feature `open_cat` and ignore `opening_eco` during training."
   ],
   "metadata": {
    "collapsed": false
   }
  },
  {
   "cell_type": "code",
   "execution_count": 14,
   "outputs": [
    {
     "data": {
      "text/plain": "[Row(opening_eco='C48'), Row(opening_eco='C50'), Row(opening_eco='B06')]"
     },
     "execution_count": 14,
     "metadata": {},
     "output_type": "execute_result"
    }
   ],
   "source": [
    "df.select('opening_eco').head(3)"
   ],
   "metadata": {
    "collapsed": false,
    "pycharm": {
     "name": "#%%\n"
    }
   }
  },
  {
   "cell_type": "code",
   "execution_count": 15,
   "outputs": [
    {
     "name": "stdout",
     "output_type": "stream",
     "text": [
      "+--------+\n",
      "|open_cat|\n",
      "+--------+\n",
      "|       E|\n",
      "|       B|\n",
      "|       D|\n",
      "|       C|\n",
      "|       A|\n",
      "+--------+\n",
      "\n"
     ]
    }
   ],
   "source": [
    "# extract first letter from opening_eco\n",
    "df = df.withColumn('open_cat', df.opening_eco.substr(0, 1))\n",
    "df.select('open_cat').distinct().show()"
   ],
   "metadata": {
    "collapsed": false,
    "pycharm": {
     "name": "#%%\n"
    }
   }
  },
  {
   "cell_type": "markdown",
   "source": [
    "### Extract features and target columns"
   ],
   "metadata": {
    "collapsed": false,
    "pycharm": {
     "name": "#%% md\n"
    }
   }
  },
  {
   "cell_type": "code",
   "execution_count": 16,
   "outputs": [],
   "source": [
    "X = df.drop('winner')\n",
    "y = df.select('winner')"
   ],
   "metadata": {
    "collapsed": false,
    "pycharm": {
     "name": "#%%\n"
    }
   }
  },
  {
   "cell_type": "markdown",
   "source": [
    "### Split into Train/Test Sets\n",
    "1. Encode player ids into numerical values.\n",
    "  - Ensure that each player is assigned one and only one numerical id.\n",
    "2. Use encoded player ids to split dataset based on groups.\n",
    "  - Each group contains the matches played by one player. Make sure that each group are sampled evenly in the training set."
   ],
   "metadata": {
    "collapsed": false,
    "pycharm": {
     "name": "#%% md\n"
    }
   }
  },
  {
   "cell_type": "code",
   "execution_count": 17,
   "outputs": [],
   "source": [
    "# This section uses pandas DF\n",
    "X_pd = X.toPandas()\n",
    "y_pd = y.toPandas()"
   ],
   "metadata": {
    "collapsed": false,
    "pycharm": {
     "name": "#%%\n"
    }
   }
  },
  {
   "cell_type": "code",
   "execution_count": 18,
   "outputs": [
    {
     "data": {
      "text/plain": "               white_id  white_id_num        black_id  black_id_num\n0               lagos16             0       doom12384             1\n1                hill_j             2    karfedericol             3\n2      gr8_m8_m8_im_ir8             4     schachlerno             5\n3          duckduckfrog             6    ducksandcats             7\n4           valerioneto             8  christina-a-11             9\n...                 ...           ...             ...           ...\n19624       malatestabr         15632        dumbluck           192\n19625      shatrandjbaz         15633       craciun05          1865\n19626            euggeo          8944       craciun05          1865\n19627         kferapont          1114     benedictine          6279\n19628         proger128         15634      dimitris22          1390\n\n[19629 rows x 4 columns]",
      "text/html": "<div>\n<style scoped>\n    .dataframe tbody tr th:only-of-type {\n        vertical-align: middle;\n    }\n\n    .dataframe tbody tr th {\n        vertical-align: top;\n    }\n\n    .dataframe thead th {\n        text-align: right;\n    }\n</style>\n<table border=\"1\" class=\"dataframe\">\n  <thead>\n    <tr style=\"text-align: right;\">\n      <th></th>\n      <th>white_id</th>\n      <th>white_id_num</th>\n      <th>black_id</th>\n      <th>black_id_num</th>\n    </tr>\n  </thead>\n  <tbody>\n    <tr>\n      <th>0</th>\n      <td>lagos16</td>\n      <td>0</td>\n      <td>doom12384</td>\n      <td>1</td>\n    </tr>\n    <tr>\n      <th>1</th>\n      <td>hill_j</td>\n      <td>2</td>\n      <td>karfedericol</td>\n      <td>3</td>\n    </tr>\n    <tr>\n      <th>2</th>\n      <td>gr8_m8_m8_im_ir8</td>\n      <td>4</td>\n      <td>schachlerno</td>\n      <td>5</td>\n    </tr>\n    <tr>\n      <th>3</th>\n      <td>duckduckfrog</td>\n      <td>6</td>\n      <td>ducksandcats</td>\n      <td>7</td>\n    </tr>\n    <tr>\n      <th>4</th>\n      <td>valerioneto</td>\n      <td>8</td>\n      <td>christina-a-11</td>\n      <td>9</td>\n    </tr>\n    <tr>\n      <th>...</th>\n      <td>...</td>\n      <td>...</td>\n      <td>...</td>\n      <td>...</td>\n    </tr>\n    <tr>\n      <th>19624</th>\n      <td>malatestabr</td>\n      <td>15632</td>\n      <td>dumbluck</td>\n      <td>192</td>\n    </tr>\n    <tr>\n      <th>19625</th>\n      <td>shatrandjbaz</td>\n      <td>15633</td>\n      <td>craciun05</td>\n      <td>1865</td>\n    </tr>\n    <tr>\n      <th>19626</th>\n      <td>euggeo</td>\n      <td>8944</td>\n      <td>craciun05</td>\n      <td>1865</td>\n    </tr>\n    <tr>\n      <th>19627</th>\n      <td>kferapont</td>\n      <td>1114</td>\n      <td>benedictine</td>\n      <td>6279</td>\n    </tr>\n    <tr>\n      <th>19628</th>\n      <td>proger128</td>\n      <td>15634</td>\n      <td>dimitris22</td>\n      <td>1390</td>\n    </tr>\n  </tbody>\n</table>\n<p>19629 rows × 4 columns</p>\n</div>"
     },
     "execution_count": 18,
     "metadata": {},
     "output_type": "execute_result"
    }
   ],
   "source": [
    "white_black_ids = pd.DataFrame(X_pd[['white_id', 'black_id']])\n",
    "white_black_ids = white_black_ids.stack().pipe(lambda s: pd.Series(pd.factorize(s.values)[0], s.index)).unstack()\n",
    "\n",
    "X_pd['white_id_num'] = white_black_ids['white_id']\n",
    "X_pd['black_id_num'] = white_black_ids['black_id']\n",
    "\n",
    "X_pd[['white_id', 'white_id_num', 'black_id', 'black_id_num']]"
   ],
   "metadata": {
    "collapsed": false,
    "pycharm": {
     "name": "#%%\n"
    }
   }
  },
  {
   "cell_type": "code",
   "execution_count": 19,
   "outputs": [],
   "source": [
    "from sklearn.model_selection import GroupShuffleSplit"
   ],
   "metadata": {
    "collapsed": false,
    "pycharm": {
     "name": "#%%\n"
    }
   }
  },
  {
   "cell_type": "code",
   "execution_count": 20,
   "outputs": [],
   "source": [
    "gss = GroupShuffleSplit(n_splits=1, test_size=0.2, random_state=seed)\n",
    "train_idx, test_idx = next(gss.split(X_pd, y_pd, groups=X_pd['white_id_num']))\n",
    "\n",
    "X_train = X_pd.loc[train_idx]\n",
    "y_train = y_pd.loc[train_idx]\n",
    "\n",
    "X_test = X_pd.loc[test_idx]\n",
    "y_test = y_pd.loc[test_idx]"
   ],
   "metadata": {
    "collapsed": false,
    "pycharm": {
     "name": "#%%\n"
    }
   }
  },
  {
   "cell_type": "code",
   "execution_count": 21,
   "outputs": [],
   "source": [
    "# Proof that none of the IDs from the training set are present in the test set.\n",
    "x_train_values = set(X_train['white_id'].values)\n",
    "x_test_values = set(X_test['white_id'].values)\n",
    "\n",
    "count = 0\n",
    "for val in x_train_values:\n",
    "  if val in x_test_values:\n",
    "    count += 1\n",
    "assert count == 0, 'A group is present in both training and test sets'"
   ],
   "metadata": {
    "collapsed": false,
    "pycharm": {
     "name": "#%%\n"
    }
   }
  },
  {
   "cell_type": "markdown",
   "source": [
    "### Create Spark DF from Pandas DF"
   ],
   "metadata": {
    "collapsed": false,
    "pycharm": {
     "name": "#%% md\n"
    }
   }
  },
  {
   "cell_type": "code",
   "execution_count": 22,
   "outputs": [],
   "source": [
    "X_train = spark.createDataFrame(X_train)\n",
    "y_train = spark.createDataFrame(y_train)\n",
    "X_test = spark.createDataFrame(X_test)\n",
    "y_test = spark.createDataFrame(y_test)"
   ],
   "metadata": {
    "collapsed": false,
    "pycharm": {
     "name": "#%%\n"
    }
   }
  },
  {
   "cell_type": "markdown",
   "source": [
    "### Feature `moves`\n",
    "As per inspection, this feature records the list/sequence of moves during the match. Because that the sequence, if parsed correctly, actually indicates the winning player, we need to either drop this feature or obfuscate this information. We find that Spark supports Word2Vec feature transformation, which will turn the sequence into a vector. Such vector representation is independent of the order of the moves, and this can obfuscate part of the information lied within this feature."
   ],
   "metadata": {
    "collapsed": false
   }
  },
  {
   "cell_type": "code",
   "execution_count": 23,
   "outputs": [],
   "source": [
    "from pyspark.ml.feature import Word2Vec"
   ],
   "metadata": {
    "collapsed": false,
    "pycharm": {
     "name": "#%%\n"
    }
   }
  },
  {
   "cell_type": "code",
   "execution_count": 24,
   "outputs": [
    {
     "data": {
      "text/plain": "'e4 e5 Nf3 Nf6 Nc3 Nc6 Bb5 a6 Bxc6 dxc6 O-O Bg4 d3 Bb4 Bd2 O-O a3 Ba5 b4 Bb6 a4 c5 a5 Ba7 Rb1 b6 bxc5 Rb8 axb6 cxb6 cxb6 Rxb6 Rxb6 Bxb6 Na4 Bxf3 Qxf3 Nd7 Be3 Bxe3 Qxe3 Qa5 Nb2 Qc3 Qc1 Rc8 Nc4 Nc5 Qb2 Na4 Qxc3 Nxc3 Nxe5 Ne2+ Kh1 Rxc2 Ra1 Nc3 h3 f6 Nf3 Rxf2 Rxa6 g5 Nd4 Rd2 Rxf6 Rxd3 Nf5 Nxe4 Re6 Nf2+ Kh2 Kf7 Re2 Nd1 Nh6+ Kg6 Ng4 Nc3 Ne5+ Kh5 Nxd3 Nxe2 g4+ Kg6 Ne5+ Kf6 Nf3 Nf4 Kg3 h5 gxh5 Nxh5+ Kg4 Nf4 Nxg5 Nxh3 Nxh3'"
     },
     "execution_count": 24,
     "metadata": {},
     "output_type": "execute_result"
    }
   ],
   "source": [
    "X_train.select('moves').head().moves"
   ],
   "metadata": {
    "collapsed": false,
    "pycharm": {
     "name": "#%%\n"
    }
   }
  },
  {
   "cell_type": "code",
   "execution_count": 25,
   "outputs": [],
   "source": [
    "vectorSize = 100\n",
    "word2Vec = Word2Vec(vectorSize=vectorSize, seed=seed, inputCol=\"moves_list\", outputCol=\"moves_vec\")"
   ],
   "metadata": {
    "collapsed": false,
    "pycharm": {
     "name": "#%%\n"
    }
   }
  },
  {
   "cell_type": "markdown",
   "source": [
    "Parameters for `Word2Vec`\n",
    "- `vectorSize`: size of the output vector, the choice of 100 is arbitrary here\n",
    "- `minCount`: Ignores all words with total frequency lower than this.\n",
    "- `inputCol`: `moves_list` is the input feature, a list of `moves` split by space\n",
    "- `outputCol`: `moves_vec` is the output feature, the transformed vector\n",
    "\n",
    "The Word2Vec model will be trained with the corpus gathered from the `moves` in the training set. After which, it will transform both training and testing datasets' `moves` feature."
   ],
   "metadata": {
    "collapsed": false
   }
  },
  {
   "cell_type": "code",
   "execution_count": 26,
   "outputs": [
    {
     "data": {
      "text/plain": "DataFrame[moves_list: array<string>]"
     },
     "execution_count": 26,
     "metadata": {},
     "output_type": "execute_result"
    }
   ],
   "source": [
    "# split moves from string into list of strings, moves -> [move, move, ...]\n",
    "train_moves_list = X_train.select(F.split(X_train.moves, '\\s', -1).alias('moves_list'))\n",
    "train_moves_list #.collect()[0][0]"
   ],
   "metadata": {
    "collapsed": false,
    "pycharm": {
     "name": "#%%\n"
    }
   }
  },
  {
   "cell_type": "code",
   "execution_count": 27,
   "outputs": [
    {
     "name": "stdout",
     "output_type": "stream",
     "text": [
      "Trained Word2Vec Model\n",
      "+-----+--------------------+\n",
      "| word|              vector|\n",
      "+-----+--------------------+\n",
      "| Bxd2|[-0.1266546249389...|\n",
      "| Nxf6|[0.29022216796875...|\n",
      "|  a2+|[-0.0953406244516...|\n",
      "|Bxd5+|[-0.0100416885688...|\n",
      "|  Kg8|[-0.1110763028264...|\n",
      "+-----+--------------------+\n",
      "only showing top 5 rows\n",
      "\n"
     ]
    }
   ],
   "source": [
    "fitted_word2Vec = word2Vec.fit(train_moves_list)\n",
    "print('Trained Word2Vec Model')\n",
    "fitted_word2Vec.getVectors().show(5)"
   ],
   "metadata": {
    "collapsed": false,
    "pycharm": {
     "name": "#%%\n"
    }
   }
  },
  {
   "cell_type": "code",
   "execution_count": 28,
   "outputs": [
    {
     "data": {
      "text/plain": "('Transformed Moves for the 1st Match in Training Set: ',\n DenseVector([0.0573, 0.1425, 0.0121, 0.0129, -0.0134, -0.0847, -0.0186, 0.0562, -0.0182, 0.0671, -0.0916, 0.0292, 0.0069, 0.002, -0.0676, -0.0436, 0.0509, 0.0401, -0.0087, 0.0217, -0.0279, -0.0171, -0.0066, -0.0231, -0.0284, -0.0292, -0.0606, -0.0912, 0.0858, 0.0427, -0.004, -0.0192, -0.0162, 0.0587, 0.0311, -0.052, -0.0709, 0.043, 0.058, -0.0143, -0.0042, 0.0059, 0.0179, -0.0585, -0.0182, -0.0185, 0.037, 0.0582, 0.026, 0.0995, -0.0034, -0.007, -0.0572, 0.0209, 0.092, 0.0257, 0.003, 0.0246, 0.0917, -0.0003, 0.0738, 0.0628, -0.0136, 0.0531, 0.0273, -0.0589, -0.0159, -0.0734, 0.0622, 0.1045, -0.0245, -0.0768, 0.0263, 0.006, -0.1302, 0.0315, 0.0265, -0.0744, 0.0901, 0.1239, -0.0127, -0.0006, 0.0839, 0.0085, -0.044, -0.0328, -0.044, 0.0254, -0.0079, 0.0789, -0.0249, -0.008, 0.0044, 0.0311, 0.0017, -0.0421, -0.0252, -0.004, 0.0814, 0.0266]))"
     },
     "execution_count": 28,
     "metadata": {},
     "output_type": "execute_result"
    }
   ],
   "source": [
    "'Transformed Moves for the 1st Match in Training Set: ', fitted_word2Vec.transform(train_moves_list).head().moves_vec"
   ],
   "metadata": {
    "collapsed": false,
    "pycharm": {
     "name": "#%%\n"
    }
   }
  },
  {
   "cell_type": "code",
   "execution_count": 29,
   "outputs": [],
   "source": [
    "X_train = X_train.withColumn('moves_list', F.split(X_train.moves, '\\s', -1))\n",
    "X_train = fitted_word2Vec.transform(X_train)\n",
    "\n",
    "X_test = X_test.withColumn('moves_list', F.split(X_test.moves, '\\s', -1))\n",
    "X_test = fitted_word2Vec.transform(X_test)"
   ],
   "metadata": {
    "collapsed": false,
    "pycharm": {
     "name": "#%%\n"
    }
   }
  },
  {
   "cell_type": "code",
   "execution_count": 31,
   "outputs": [
    {
     "data": {
      "text/plain": "   rated  turns victory_status increment_code  white_rating  black_rating  \\\n0  False     27         resign           10+0          1501          1501   \n1   True     98           mate           10+0          1834          1848   \n2  False    124         resign            5+5          2186          1017   \n3   True      5         resign            8+8          1674          1095   \n4   True     38           mate           10+0          1387          1406   \n\n  open_cat                                          moves_vec  \n0        C  [0.12456387053761217, 0.10505826923030394, 0.0...  \n1        D  [0.008515973289126568, 0.09164226585904098, 0....  \n2        C  [0.0009078230922891487, 0.0554626110618213, -0...  \n3        A  [0.13264439702033998, 0.24680592715740204, -0....  \n4        B  [0.0915889980847408, 0.10312156854687553, 0.09...  ",
      "text/html": "<div>\n<style scoped>\n    .dataframe tbody tr th:only-of-type {\n        vertical-align: middle;\n    }\n\n    .dataframe tbody tr th {\n        vertical-align: top;\n    }\n\n    .dataframe thead th {\n        text-align: right;\n    }\n</style>\n<table border=\"1\" class=\"dataframe\">\n  <thead>\n    <tr style=\"text-align: right;\">\n      <th></th>\n      <th>rated</th>\n      <th>turns</th>\n      <th>victory_status</th>\n      <th>increment_code</th>\n      <th>white_rating</th>\n      <th>black_rating</th>\n      <th>open_cat</th>\n      <th>moves_vec</th>\n    </tr>\n  </thead>\n  <tbody>\n    <tr>\n      <th>0</th>\n      <td>False</td>\n      <td>27</td>\n      <td>resign</td>\n      <td>10+0</td>\n      <td>1501</td>\n      <td>1501</td>\n      <td>C</td>\n      <td>[0.12456387053761217, 0.10505826923030394, 0.0...</td>\n    </tr>\n    <tr>\n      <th>1</th>\n      <td>True</td>\n      <td>98</td>\n      <td>mate</td>\n      <td>10+0</td>\n      <td>1834</td>\n      <td>1848</td>\n      <td>D</td>\n      <td>[0.008515973289126568, 0.09164226585904098, 0....</td>\n    </tr>\n    <tr>\n      <th>2</th>\n      <td>False</td>\n      <td>124</td>\n      <td>resign</td>\n      <td>5+5</td>\n      <td>2186</td>\n      <td>1017</td>\n      <td>C</td>\n      <td>[0.0009078230922891487, 0.0554626110618213, -0...</td>\n    </tr>\n    <tr>\n      <th>3</th>\n      <td>True</td>\n      <td>5</td>\n      <td>resign</td>\n      <td>8+8</td>\n      <td>1674</td>\n      <td>1095</td>\n      <td>A</td>\n      <td>[0.13264439702033998, 0.24680592715740204, -0....</td>\n    </tr>\n    <tr>\n      <th>4</th>\n      <td>True</td>\n      <td>38</td>\n      <td>mate</td>\n      <td>10+0</td>\n      <td>1387</td>\n      <td>1406</td>\n      <td>B</td>\n      <td>[0.0915889980847408, 0.10312156854687553, 0.09...</td>\n    </tr>\n  </tbody>\n</table>\n</div>"
     },
     "execution_count": 31,
     "metadata": {},
     "output_type": "execute_result"
    }
   ],
   "source": [
    "X_test.select('rated', 'turns', 'victory_status', 'increment_code', 'white_rating', 'black_rating', 'open_cat', 'moves_vec').toPandas().head()"
   ],
   "metadata": {
    "collapsed": false,
    "pycharm": {
     "name": "#%%\n"
    }
   }
  }
 ],
 "metadata": {
  "kernelspec": {
   "display_name": "Python 3 (ipykernel)",
   "language": "python",
   "name": "python3"
  },
  "language_info": {
   "codemirror_mode": {
    "name": "ipython",
    "version": 3
   },
   "file_extension": ".py",
   "mimetype": "text/x-python",
   "name": "python",
   "nbconvert_exporter": "python",
   "pygments_lexer": "ipython3",
   "version": "3.8.12"
  },
  "toc": {
   "base_numbering": 1,
   "nav_menu": {},
   "number_sections": true,
   "sideBar": true,
   "skip_h1_title": false,
   "title_cell": "Table of Contents",
   "title_sidebar": "Contents",
   "toc_cell": false,
   "toc_position": {},
   "toc_section_display": true,
   "toc_window_display": false
  }
 },
 "nbformat": 4,
 "nbformat_minor": 1
}