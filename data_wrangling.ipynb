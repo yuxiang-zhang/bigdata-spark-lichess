{
 "cells": [
  {
   "cell_type": "code",
   "execution_count": 1,
   "metadata": {
    "collapsed": true
   },
   "outputs": [],
   "source": [
    "import os\n",
    "import sys\n",
    "from pyspark.rdd import RDD\n",
    "from pyspark.sql import Row\n",
    "from pyspark.sql import DataFrame\n",
    "from pyspark.sql import SparkSession\n",
    "import pyspark.sql.functions as F\n",
    "\n",
    "from pyspark.ml.feature import Word2Vec"
   ]
  },
  {
   "cell_type": "code",
   "execution_count": 2,
   "metadata": {
    "pycharm": {
     "name": "#%%\n"
    }
   },
   "outputs": [],
   "source": [
    "def init_spark():\n",
    "    return SparkSession \\\n",
    "        .builder \\\n",
    "        .master(\"local[4]\") \\\n",
    "        .appName(\"Chess Predict\") \\\n",
    "        .config(\"spark.some.config.option\", \"some-value\") \\\n",
    "        .getOrCreate()\n",
    "\n",
    "spark = init_spark()"
   ]
  },
  {
   "cell_type": "code",
   "execution_count": 3,
   "outputs": [],
   "source": [
    "seed = 42"
   ],
   "metadata": {
    "collapsed": false,
    "pycharm": {
     "name": "#%%\n"
    }
   }
  },
  {
   "cell_type": "markdown",
   "metadata": {
    "pycharm": {
     "name": "#%% md\n"
    }
   },
   "source": [
    "## Load Dataset"
   ]
  },
  {
   "cell_type": "code",
   "execution_count": 4,
   "metadata": {
    "pycharm": {
     "name": "#%%\n"
    }
   },
   "outputs": [],
   "source": [
    "df = spark.read.csv('data/games.csv', header=True)"
   ]
  },
  {
   "cell_type": "markdown",
   "metadata": {},
   "source": [
    "## Data Exploration"
   ]
  },
  {
   "cell_type": "code",
   "execution_count": 5,
   "metadata": {},
   "outputs": [
    {
     "data": {
      "text/plain": "['id',\n 'rated',\n 'created_at',\n 'last_move_at',\n 'turns',\n 'victory_status',\n 'winner',\n 'increment_code',\n 'white_id',\n 'white_rating',\n 'black_id',\n 'black_rating',\n 'moves',\n 'opening_eco',\n 'opening_name',\n 'opening_ply']"
     },
     "execution_count": 5,
     "metadata": {},
     "output_type": "execute_result"
    }
   ],
   "source": [
    "df.columns"
   ]
  },
  {
   "cell_type": "markdown",
   "metadata": {},
   "source": [
    "## Data Preprocessing"
   ]
  },
  {
   "cell_type": "markdown",
   "source": [
    "### Feature `opening_eco`"
   ],
   "metadata": {
    "collapsed": false,
    "pycharm": {
     "name": "#%% md\n"
    }
   }
  },
  {
   "cell_type": "code",
   "execution_count": 6,
   "metadata": {
    "pycharm": {
     "name": "#%%\n"
    }
   },
   "outputs": [
    {
     "name": "stdout",
     "output_type": "stream",
     "text": [
      "+--------+\n",
      "|open_cat|\n",
      "+--------+\n",
      "|       D|\n",
      "|       B|\n",
      "|       C|\n",
      "|       D|\n",
      "|       C|\n",
      "+--------+\n",
      "only showing top 5 rows\n",
      "\n"
     ]
    }
   ],
   "source": [
    "# extract first letter from opening_eco\n",
    "df = df.withColumn('open_cat', df.opening_eco.substr(0, 1))\n",
    "df.select('open_cat').show(5)"
   ]
  },
  {
   "cell_type": "markdown",
   "source": [
    "## Feature `black_id` and `white_id`"
   ],
   "metadata": {
    "collapsed": false,
    "pycharm": {
     "name": "#%% md\n"
    }
   }
  },
  {
   "cell_type": "markdown",
   "source": [
    "https://spark.apache.org/docs/3.1.1/api/python/reference/api/pyspark.ml.feature.StringIndexer.html#stringindexer"
   ],
   "metadata": {
    "collapsed": false,
    "pycharm": {
     "name": "#%% md\n"
    }
   }
  },
  {
   "cell_type": "code",
   "execution_count": 7,
   "metadata": {
    "pycharm": {
     "name": "#%%\n"
    }
   },
   "outputs": [
    {
     "data": {
      "text/plain": "[Row(white_id='lafreu64'),\n Row(white_id='dleipold'),\n Row(white_id='styve_lam'),\n Row(white_id='sqs198627'),\n Row(white_id='oceannnn'),\n Row(white_id='deez2nuts'),\n Row(white_id='pizzalberto'),\n Row(white_id='joel_collado'),\n Row(white_id='lthiagos'),\n Row(white_id='v1chess'),\n Row(white_id='shieldandsword88'),\n Row(white_id='wei2'),\n Row(white_id='amaozinhadotemer'),\n Row(white_id='adamsandler'),\n Row(white_id='isp'),\n Row(white_id='zaid-taha'),\n Row(white_id='boro-i-ramiz'),\n Row(white_id='zingtingaling'),\n Row(white_id='carloshpb'),\n Row(white_id='lora_cat'),\n Row(white_id='turgaycanoglu'),\n Row(white_id='streaml1ne'),\n Row(white_id='a99mimon'),\n Row(white_id='adi_tiwari'),\n Row(white_id='stevefloyd'),\n Row(white_id='sawadatsu'),\n Row(white_id='pepeline84'),\n Row(white_id='jara_h'),\n Row(white_id='chunkymonkey'),\n Row(white_id='liov'),\n Row(white_id='antonio50'),\n Row(white_id='xavyay'),\n Row(white_id='blessedup'),\n Row(white_id='batforever'),\n Row(white_id='niyousha64'),\n Row(white_id='f1v3'),\n Row(white_id='maks1906'),\n Row(white_id='elihaymir3'),\n Row(white_id='robox68'),\n Row(white_id='ben2018'),\n Row(white_id='weidmam1976'),\n Row(white_id='aszilagyi'),\n Row(white_id='stunning_star'),\n Row(white_id='aanady'),\n Row(white_id='kc101'),\n Row(white_id='viperfish12'),\n Row(white_id='zombywo0f'),\n Row(white_id='sonicsfe'),\n Row(white_id='orionnebula1976'),\n Row(white_id='juangaston'),\n Row(white_id='ikrenko'),\n Row(white_id='sarest'),\n Row(white_id='cr2015'),\n Row(white_id='mosaaalshammari'),\n Row(white_id='fl0yd'),\n Row(white_id='peter-br'),\n Row(white_id='majdorf'),\n Row(white_id='alsing'),\n Row(white_id='karo1972'),\n Row(white_id='godlikemoves'),\n Row(white_id='kshaz'),\n Row(white_id='ertugrull01'),\n Row(white_id='pol_allars'),\n Row(white_id='digidik'),\n Row(white_id='sharx'),\n Row(white_id='kaveca'),\n Row(white_id='scenick'),\n Row(white_id='mateworkkkkk'),\n Row(white_id='rich8a'),\n Row(white_id='marcban'),\n Row(white_id='reza32500'),\n Row(white_id='sorenagrand'),\n Row(white_id='yamaarashi'),\n Row(white_id='luxyfero'),\n Row(white_id='kohyar'),\n Row(white_id='babacom'),\n Row(white_id='gayaz1939'),\n Row(white_id='limulians'),\n Row(white_id='plikhta'),\n Row(white_id='davifl10'),\n Row(white_id='las8_vegas8'),\n Row(white_id='crazyduke7'),\n Row(white_id='petr42'),\n Row(white_id='verya'),\n Row(white_id='deni88'),\n Row(white_id='aloriente'),\n Row(white_id='fatmat'),\n Row(white_id='mattieuw2'),\n Row(white_id='nssf24'),\n Row(white_id='cuxhaven'),\n Row(white_id='contagemmg'),\n Row(white_id='afrisham-iran'),\n Row(white_id='totossaf'),\n Row(white_id='pmeath'),\n Row(white_id='raghav01'),\n Row(white_id='hunbee'),\n Row(white_id='29rus'),\n Row(white_id='paddycologne'),\n Row(white_id='cliward132'),\n Row(white_id='buddashand'),\n Row(white_id='steevendelgado'),\n Row(white_id='ultimatedestiny'),\n Row(white_id='xamio'),\n Row(white_id='amezkyta'),\n Row(white_id='xaviarov'),\n Row(white_id='henriquebrasil'),\n Row(white_id='bimi'),\n Row(white_id='aliamini'),\n Row(white_id='madsterc'),\n Row(white_id='mount_chess'),\n Row(white_id='hacksaw'),\n Row(white_id='mau85'),\n Row(white_id='abo7amdo'),\n Row(white_id='williammb'),\n Row(white_id='ahmet_kose'),\n Row(white_id='steveboone'),\n Row(white_id='cornely'),\n Row(white_id='chemvell'),\n Row(white_id='osalbay'),\n Row(white_id='breno_giannini'),\n Row(white_id='rahmannnn'),\n Row(white_id='nico_sage'),\n Row(white_id='marsfj'),\n Row(white_id='lion216'),\n Row(white_id='cmys'),\n Row(white_id='atakule'),\n Row(white_id='unwise'),\n Row(white_id='garvays'),\n Row(white_id='popleta'),\n Row(white_id='dijkstra'),\n Row(white_id='staskras'),\n Row(white_id='tolya1975'),\n Row(white_id='danielmop'),\n Row(white_id='meysam_po'),\n Row(white_id='turkishchessplayer'),\n Row(white_id='javichoo'),\n Row(white_id='v_bogdanets'),\n Row(white_id='zaychik13'),\n Row(white_id='dracosam'),\n Row(white_id='mijndochterenik2151'),\n Row(white_id='sd56'),\n Row(white_id='maicon92'),\n Row(white_id='assad'),\n Row(white_id='darknight11-11'),\n Row(white_id='indonesia8210'),\n Row(white_id='alimm1382'),\n Row(white_id='fumbler'),\n Row(white_id='romacal'),\n Row(white_id='megomaf'),\n Row(white_id='bionivek'),\n Row(white_id='jaakkot'),\n Row(white_id='mohamedwaly'),\n Row(white_id='joses1'),\n Row(white_id='fatihkksl'),\n Row(white_id='fabo84'),\n Row(white_id='aig'),\n Row(white_id='acarina'),\n Row(white_id='abstractmind_77'),\n Row(white_id='ryilmaz'),\n Row(white_id='pavel1511'),\n Row(white_id='zpino'),\n Row(white_id='barakoff'),\n Row(white_id='kimsan'),\n Row(white_id='keiwan'),\n Row(white_id='jasthewas'),\n Row(white_id='emre4d'),\n Row(white_id='gecekirpik'),\n Row(white_id='reydelmambo13'),\n Row(white_id='joseroldan'),\n Row(white_id='dexter_ni'),\n Row(white_id='coach01'),\n Row(white_id='undodo'),\n Row(white_id='fatuwski'),\n Row(white_id='roma75'),\n Row(white_id='omar-21'),\n Row(white_id='warera'),\n Row(white_id='sansavoirvecu'),\n Row(white_id='melibea1964'),\n Row(white_id='gasperlk'),\n Row(white_id='laurent137'),\n Row(white_id='richard7226'),\n Row(white_id='autofire1'),\n Row(white_id='meru'),\n Row(white_id='fisisolo'),\n Row(white_id='terrormt'),\n Row(white_id='jpadron19'),\n Row(white_id='andrey33'),\n Row(white_id='whiskey4blood'),\n Row(white_id='ocean56'),\n Row(white_id='letraversier'),\n Row(white_id='tosimiesseppo'),\n Row(white_id='jcdwalter'),\n Row(white_id='joethoma'),\n Row(white_id='habib20'),\n Row(white_id='dubaandras'),\n Row(white_id='valen0k'),\n Row(white_id='azelis'),\n Row(white_id='alia'),\n Row(white_id='cavalov'),\n Row(white_id='chessderek'),\n Row(white_id='marren47'),\n Row(white_id='masa-90'),\n Row(white_id='monuwio'),\n Row(white_id='dosviduli'),\n Row(white_id='joejohn'),\n Row(white_id='kicblo37'),\n Row(white_id='omara33718'),\n Row(white_id='terco666_9'),\n Row(white_id='ihar'),\n Row(white_id='meetbob'),\n Row(white_id='gui645'),\n Row(white_id='ofirshukrun74'),\n Row(white_id='phil77'),\n Row(white_id='arda9601'),\n Row(white_id='lucasrascle'),\n Row(white_id='heusspower'),\n Row(white_id='aggelos81'),\n Row(white_id='patzer74'),\n Row(white_id='harish8u'),\n Row(white_id='minelkayraaaaaa'),\n Row(white_id='urmil007'),\n Row(white_id='tumursuh'),\n Row(white_id='overhope'),\n Row(white_id='jaqenhghar22'),\n Row(white_id='thercias'),\n Row(white_id='pyromaniac115'),\n Row(white_id='styx13'),\n Row(white_id='hubertw'),\n Row(white_id='serotyuk'),\n Row(white_id='wazabanja'),\n Row(white_id='urungu14'),\n Row(white_id='marikov'),\n Row(white_id='quasiconcave'),\n Row(white_id='mikailmalik'),\n Row(white_id='albert_vicario'),\n Row(white_id='shahrud1295'),\n Row(white_id='spiceykid21'),\n Row(white_id='haribolchik'),\n Row(white_id='nick606'),\n Row(white_id='casabalearrosario'),\n Row(white_id='hitotu35'),\n Row(white_id='zkatan'),\n Row(white_id='sinops'),\n Row(white_id='abdullahsuper1'),\n Row(white_id='arnoldwin'),\n Row(white_id='kukushonok'),\n Row(white_id='nofunmybabe'),\n Row(white_id='egors11'),\n Row(white_id='stockfish_level_0'),\n Row(white_id='curtisptrsn'),\n Row(white_id='maxmok09'),\n Row(white_id='davtio'),\n Row(white_id='porquepepe'),\n Row(white_id='tensors'),\n Row(white_id='rogalskiy'),\n Row(white_id='clownish'),\n Row(white_id='rotsa_ruck'),\n Row(white_id='caje'),\n Row(white_id='urakov'),\n Row(white_id='achikotetunashvili'),\n Row(white_id='cemki22'),\n Row(white_id='quasimatto'),\n Row(white_id='snowneko'),\n Row(white_id='macetico'),\n Row(white_id='spodermenz'),\n Row(white_id='voguha'),\n Row(white_id='hassom1233'),\n Row(white_id='rezap'),\n Row(white_id='cruising'),\n Row(white_id='polxxxx'),\n Row(white_id='beginner74'),\n Row(white_id='ugrofin'),\n Row(white_id='viktor-1977'),\n Row(white_id='alivalizadeh'),\n Row(white_id='morethanchess'),\n Row(white_id='jungleland'),\n Row(white_id='aleksander10032007'),\n Row(white_id='woland52'),\n Row(white_id='master_vivek'),\n Row(white_id='nimanimanima'),\n Row(white_id='geert52'),\n Row(white_id='drmsatya'),\n Row(white_id='yazeed_bani_saleem'),\n Row(white_id='bart_simpson'),\n Row(white_id='dpr-82'),\n Row(white_id='ferman1462'),\n Row(white_id='piotrekcof88'),\n Row(white_id='apostheosis'),\n Row(white_id='jrock98'),\n Row(white_id='hollyandclaws'),\n Row(white_id='x6sapnupuas9x'),\n Row(white_id='eddywilde'),\n Row(white_id='d_daniljev'),\n Row(white_id='clemens90'),\n Row(white_id='doctor_alexandra'),\n Row(white_id='shame211'),\n Row(white_id='dmitriy_pskov'),\n Row(white_id='garrigal439'),\n Row(white_id='drughi-25'),\n Row(white_id='egor2001'),\n Row(white_id='nilsenvivar'),\n Row(white_id='zakeee'),\n Row(white_id='hanngar87'),\n Row(white_id='tsi'),\n Row(white_id='jat'),\n Row(white_id='ssoares76'),\n Row(white_id='efc1985'),\n Row(white_id='feridoon2222'),\n Row(white_id='marcosmolina'),\n Row(white_id='aleks7397'),\n Row(white_id='sabaren'),\n Row(white_id='platonov'),\n Row(white_id='supaproximalsix'),\n Row(white_id='mhm12'),\n Row(white_id='maher71'),\n Row(white_id='hyderho'),\n Row(white_id='antonio77'),\n Row(white_id='harrison2'),\n Row(white_id='jeoda'),\n Row(white_id='victor_simon'),\n Row(white_id='ntam'),\n Row(white_id='peshkach'),\n Row(white_id='marcosi99'),\n Row(white_id='onecert'),\n Row(white_id='miguelnavarro'),\n Row(white_id='levdor'),\n Row(white_id='mr-brain'),\n Row(white_id='costarica89'),\n Row(white_id='drokosha'),\n Row(white_id='sigve'),\n Row(white_id='nicholas9999'),\n Row(white_id='zagadochnik'),\n Row(white_id='suryavarchasvin'),\n Row(white_id='dearj'),\n Row(white_id='divu7'),\n Row(white_id='iugoh'),\n Row(white_id='flaizhen'),\n Row(white_id='migarbi'),\n Row(white_id='ionlygetbuckets'),\n Row(white_id='roi8fineor'),\n Row(white_id='fastforward'),\n Row(white_id='widow_queen'),\n Row(white_id='smisy'),\n Row(white_id='ilija777'),\n Row(white_id='bu11d0zer'),\n Row(white_id='amazing-grace'),\n Row(white_id='herbsman'),\n Row(white_id='joker_01'),\n Row(white_id='ghaffari'),\n Row(white_id='morpheuz'),\n Row(white_id='classis'),\n Row(white_id='vlada4937'),\n Row(white_id='fruitfly'),\n Row(white_id='ophthalmophobia'),\n Row(white_id='the_loving_boy'),\n Row(white_id='ddd223'),\n Row(white_id='kirasam'),\n Row(white_id='greentxo'),\n Row(white_id='incompetentf'),\n Row(white_id='ptm1985'),\n Row(white_id='budun67867'),\n Row(white_id='gguth'),\n Row(white_id='goncha1965'),\n Row(white_id='qnhan1111'),\n Row(white_id='sebasguitar'),\n Row(white_id='teddster'),\n Row(white_id='iron-71'),\n Row(white_id='montex'),\n Row(white_id='dsalvats'),\n Row(white_id='marshadaho'),\n Row(white_id='marchassassin'),\n Row(white_id='euazama'),\n Row(white_id='catenaccio451'),\n Row(white_id='loveotsuu'),\n Row(white_id='erupot'),\n Row(white_id='sumitan'),\n Row(white_id='velosoff'),\n Row(white_id='erickmanuelh'),\n Row(white_id='the_promise'),\n Row(white_id='diamondinleague'),\n Row(white_id='okmn'),\n Row(white_id='chipper'),\n Row(white_id='mrcesarchess'),\n Row(white_id='rafael43'),\n Row(white_id='paulot'),\n Row(white_id='sagaz'),\n Row(white_id='blackjack68'),\n Row(white_id='nosucumbo'),\n Row(white_id='tajsk'),\n Row(white_id='mw0874'),\n Row(white_id='consun'),\n Row(white_id='oto101'),\n Row(white_id='viktor707'),\n Row(white_id='cartellll'),\n Row(white_id='stoker19'),\n Row(white_id='warnado'),\n Row(white_id='ikke_newt'),\n Row(white_id='jordanfury'),\n Row(white_id='nickm3'),\n Row(white_id='ladratov'),\n Row(white_id='flameswarriorq8'),\n Row(white_id='arturoperez'),\n Row(white_id='amro15'),\n Row(white_id='kaisen101'),\n Row(white_id='roncas'),\n Row(white_id='part74'),\n Row(white_id='kazikkizak'),\n Row(white_id='angelmufato'),\n Row(white_id='allstache'),\n Row(white_id='masterkill1'),\n Row(white_id='manrod420'),\n Row(white_id='raulll007'),\n Row(white_id='farzaneh70'),\n Row(white_id='anonkenyan'),\n Row(white_id='oggy04'),\n Row(white_id='peristolisonassis'),\n Row(white_id='cesp62'),\n Row(white_id='pantera01'),\n Row(white_id='okesm'),\n Row(white_id='mrra'),\n Row(white_id='patgarret'),\n Row(white_id='chessdude88'),\n Row(white_id='wald3n'),\n Row(white_id='dico-hd'),\n Row(white_id='hooponopono'),\n Row(white_id='szamit'),\n Row(white_id='taniskanan'),\n Row(white_id='bahram5596'),\n Row(white_id='patrick56'),\n Row(white_id='andreatorre'),\n Row(white_id='cessanz06'),\n Row(white_id='timi72'),\n Row(white_id='epirepis100'),\n Row(white_id='ryanprihantoro'),\n Row(white_id='joseisidro'),\n Row(white_id='slavija'),\n Row(white_id='fonty1017'),\n Row(white_id='peluju'),\n Row(white_id='loporov'),\n Row(white_id='amaral22'),\n Row(white_id='k-i-r'),\n Row(white_id='itfrombit'),\n Row(white_id='brahim333'),\n Row(white_id='emadahmed'),\n Row(white_id='muhammad_ilham'),\n Row(white_id='chessatom'),\n Row(white_id='msm7'),\n Row(white_id='letum'),\n Row(white_id='filipfico'),\n Row(white_id='jacekk'),\n Row(white_id='bmeisa'),\n Row(white_id='nelasker'),\n Row(white_id='astropaulo'),\n Row(white_id='334'),\n Row(white_id='ownage'),\n Row(white_id='bouchon'),\n Row(white_id='monsieurpatate'),\n Row(white_id='koza_nostra'),\n Row(white_id='maxmamontov'),\n Row(white_id='architpatel'),\n Row(white_id='chessatnight'),\n Row(white_id='enielson'),\n Row(white_id='romanmutin'),\n Row(white_id='ilker1907'),\n Row(white_id='neo_dima86'),\n Row(white_id='jaroslav'),\n Row(white_id='bpchassain'),\n Row(white_id='knefel'),\n Row(white_id='forhavu'),\n Row(white_id='ischia'),\n Row(white_id='amary33'),\n Row(white_id='facurezzo'),\n Row(white_id='jgan91'),\n Row(white_id='nf1951'),\n Row(white_id='bassim'),\n Row(white_id='soprotheygowhoa'),\n Row(white_id='pastorieschaken'),\n Row(white_id='okportenko'),\n Row(white_id='du_guitar'),\n Row(white_id='parkerb32'),\n Row(white_id='wilce'),\n Row(white_id='killerbromean'),\n Row(white_id='sha6arangi'),\n Row(white_id='uberfish96'),\n Row(white_id='tagirrtyu'),\n Row(white_id='chien11110'),\n Row(white_id='narkruin'),\n Row(white_id='magic007'),\n Row(white_id='meadowsky'),\n Row(white_id='zasada238'),\n Row(white_id='shanat287'),\n Row(white_id='giulio76'),\n Row(white_id='djamekauber'),\n Row(white_id='vagelis'),\n Row(white_id='m60'),\n Row(white_id='ironmaiden53'),\n Row(white_id='ticktokta'),\n Row(white_id='aphte'),\n Row(white_id='tr1numara'),\n Row(white_id='tonidamigo'),\n Row(white_id='aderbalco'),\n Row(white_id='ozguragarr'),\n Row(white_id='hevingham3'),\n Row(white_id='pequenodragao'),\n Row(white_id='grasmester'),\n Row(white_id='totti'),\n Row(white_id='fisher2012'),\n Row(white_id='jaden42'),\n Row(white_id='jerusseust'),\n Row(white_id='diego18'),\n Row(white_id='le_truand'),\n Row(white_id='mineralkin'),\n Row(white_id='vigoregino'),\n Row(white_id='ihsan71'),\n Row(white_id='flatearther'),\n Row(white_id='blackbandana'),\n Row(white_id='shivamsuhane'),\n Row(white_id='airph'),\n Row(white_id='andrian'),\n Row(white_id='dafuqamidoing'),\n Row(white_id='maiconoo8oo'),\n Row(white_id='elmelito'),\n Row(white_id='thesimple'),\n Row(white_id='wildkeeper'),\n Row(white_id='nasik1'),\n Row(white_id='nuruasakir'),\n Row(white_id='loco104'),\n Row(white_id='gidr'),\n Row(white_id='dokhotnikov'),\n Row(white_id='rameau64'),\n Row(white_id='slobodan007'),\n Row(white_id='sepehrxman'),\n Row(white_id='mitkonikov'),\n Row(white_id='maikiman'),\n Row(white_id='miko47'),\n Row(white_id='aldali'),\n Row(white_id='vitruvio'),\n Row(white_id='fatih221b'),\n Row(white_id='nezaisiu'),\n Row(white_id='ospeck'),\n Row(white_id='mozaffar466'),\n Row(white_id='samiraloraei'),\n Row(white_id='jhinrichs'),\n Row(white_id='jitendra_chaturvedi'),\n Row(white_id='xmen123'),\n Row(white_id='royas'),\n Row(white_id='akula2708'),\n Row(white_id='rusgis'),\n Row(white_id='avb123'),\n Row(white_id='rosandorus'),\n Row(white_id='nuc21nuc'),\n Row(white_id='honzarusnak'),\n Row(white_id='wildcat1'),\n Row(white_id='kevin_ferrucci'),\n Row(white_id='wisell'),\n Row(white_id='chelsey_00'),\n Row(white_id='jalilroozban'),\n Row(white_id='grey-knight'),\n Row(white_id='strongpawn23'),\n Row(white_id='hamuoshkabae'),\n Row(white_id='zey89'),\n Row(white_id='smohajer'),\n Row(white_id='blazkovic'),\n Row(white_id='notnova'),\n Row(white_id='jonway'),\n Row(white_id='noura2009'),\n Row(white_id='erlend2'),\n Row(white_id='kadmon96'),\n Row(white_id='cescos'),\n Row(white_id='nixpuri'),\n Row(white_id='kudrin64'),\n Row(white_id='eugeneshy'),\n Row(white_id='okladnoy'),\n Row(white_id='pet-3-ca'),\n Row(white_id='joselito-carnaval'),\n Row(white_id='horse4203'),\n Row(white_id='rezuan13'),\n Row(white_id='x2w94'),\n Row(white_id='killertip'),\n Row(white_id='chrisca408'),\n Row(white_id='ipotekamd'),\n Row(white_id='lat-liakim'),\n Row(white_id='jpmolarin'),\n Row(white_id='serg2223'),\n Row(white_id='marcosaba'),\n Row(white_id='willam_drum'),\n Row(white_id='filorly'),\n Row(white_id='dofranck'),\n Row(white_id='chessmasterxxx'),\n Row(white_id='eric_s'),\n Row(white_id='expert_m16'),\n Row(white_id='airblade92'),\n Row(white_id='mar2345'),\n Row(white_id='guazuvira'),\n Row(white_id='iamaliveandbored'),\n Row(white_id='mariansklenar'),\n Row(white_id='menzur'),\n Row(white_id='thedustonthewheel'),\n Row(white_id='langlais'),\n Row(white_id='schlamm'),\n Row(white_id='saj10'),\n Row(white_id='chessplay77'),\n Row(white_id='freddy1201'),\n Row(white_id='edy456'),\n Row(white_id='danny_1'),\n Row(white_id='m-1369'),\n Row(white_id='art1988'),\n Row(white_id='theforcebewithyou'),\n Row(white_id='arjunppp'),\n Row(white_id='balikoevsd'),\n Row(white_id='martineden11'),\n Row(white_id='rasputinovitch'),\n Row(white_id='alpheus23'),\n Row(white_id='mstelles'),\n Row(white_id='juniohispano'),\n Row(white_id='davidmcdavidface'),\n Row(white_id='skorlions28'),\n Row(white_id='bayron45'),\n Row(white_id='alizali'),\n Row(white_id='aderus'),\n Row(white_id='frostbittenkitten'),\n Row(white_id='wari'),\n Row(white_id='easy_games'),\n Row(white_id='walkerbxd'),\n Row(white_id='matheusaugusto'),\n Row(white_id='sunnyside41st'),\n Row(white_id='demetriostratos'),\n Row(white_id='pantrohf'),\n Row(white_id='minechess123'),\n Row(white_id='eaglelion'),\n Row(white_id='echephile'),\n Row(white_id='facaamarela'),\n Row(white_id='heritopes'),\n Row(white_id='swalter'),\n Row(white_id='docseth'),\n Row(white_id='sergei629'),\n Row(white_id='farid-ab'),\n Row(white_id='miki_von_ra2n'),\n Row(white_id='peter_1950'),\n Row(white_id='wildfig'),\n Row(white_id='sta20'),\n Row(white_id='viva_la_ukraine'),\n Row(white_id='rdho'),\n Row(white_id='mr_jingles'),\n Row(white_id='housssam'),\n Row(white_id='aleksandr60'),\n Row(white_id='romkoh'),\n Row(white_id='ramzaid'),\n Row(white_id='maltetillmarconi'),\n Row(white_id='outrageouscheese'),\n Row(white_id='chyvak'),\n Row(white_id='citrus2014'),\n Row(white_id='fulanomengano'),\n Row(white_id='haemada'),\n Row(white_id='myklfriend'),\n Row(white_id='omarhendawii'),\n Row(white_id='luigisola57ls'),\n Row(white_id='karatel44'),\n Row(white_id='mohahakel'),\n Row(white_id='dellinspiron25'),\n Row(white_id='skids19'),\n Row(white_id='adamzhorzhevych'),\n Row(white_id='chesspolio'),\n Row(white_id='maximuspro'),\n Row(white_id='either-or'),\n Row(white_id='txarusek'),\n Row(white_id='cuwer1234'),\n Row(white_id='ludonix'),\n Row(white_id='thehuy186'),\n Row(white_id='jimaeztro'),\n Row(white_id='siux'),\n Row(white_id='killerloop'),\n Row(white_id='hulk12345'),\n Row(white_id='torreaislada'),\n Row(white_id='hade23'),\n Row(white_id='motion'),\n Row(white_id='azizbayram'),\n Row(white_id='saygin'),\n Row(white_id='thenextbattle'),\n Row(white_id='bigprof8'),\n Row(white_id='henrykwinto88'),\n Row(white_id='danidep02'),\n Row(white_id='richardparcker'),\n Row(white_id='howchessyt'),\n Row(white_id='smontur'),\n Row(white_id='cavaleirobranco'),\n Row(white_id='kwameware'),\n Row(white_id='acidinsomnia'),\n Row(white_id='spein46'),\n Row(white_id='uknown78'),\n Row(white_id='mikhal'),\n Row(white_id='randomalbumtitle'),\n Row(white_id='mazhar_here'),\n Row(white_id='sani6236'),\n Row(white_id='kingslayer92'),\n Row(white_id='skayb'),\n Row(white_id='abcheck'),\n Row(white_id='loveoken'),\n Row(white_id='woodytobiasjr'),\n Row(white_id='cassioparov'),\n Row(white_id='kanabisss'),\n Row(white_id='shaaheenf88'),\n Row(white_id='andres10'),\n Row(white_id='rayg3x'),\n Row(white_id='motorrad'),\n Row(white_id='dumbocow135'),\n Row(white_id='racingcbav'),\n Row(white_id='jshholland'),\n Row(white_id='citragang'),\n Row(white_id='yexsoo'),\n Row(white_id='apostolov'),\n Row(white_id='bigkum'),\n Row(white_id='chivitzzz'),\n Row(white_id='tupai'),\n Row(white_id='jncusters'),\n Row(white_id='waloya'),\n Row(white_id='irm0'),\n Row(white_id='shoranov'),\n Row(white_id='blacktal1899'),\n Row(white_id='kumskiy'),\n Row(white_id='dentist23'),\n Row(white_id='azcatdave'),\n Row(white_id='luis11'),\n Row(white_id='nikita0690'),\n Row(white_id='ss-fitz'),\n Row(white_id='andersonru'),\n Row(white_id='juanantonio7712'),\n Row(white_id='sveenemand'),\n Row(white_id='cawfree'),\n Row(white_id='alex_renegade'),\n Row(white_id='amayak'),\n Row(white_id='mdc'),\n Row(white_id='jarkon'),\n Row(white_id='viktor_winner'),\n Row(white_id='jackdouxx'),\n Row(white_id='francisco-sanabria'),\n Row(white_id='xandersky'),\n Row(white_id='jjpstupice'),\n Row(white_id='broblake18'),\n Row(white_id='linechess'),\n Row(white_id='federico57'),\n Row(white_id='vini700'),\n Row(white_id='dayvc'),\n Row(white_id='capablanca93'),\n Row(white_id='popo4ka_po'),\n Row(white_id='atabey2010'),\n Row(white_id='arbitrarylogic'),\n Row(white_id='musemi'),\n Row(white_id='mikaone'),\n Row(white_id='sidharthcnadhan'),\n Row(white_id='tironislux'),\n Row(white_id='pen18'),\n Row(white_id='chapson'),\n Row(white_id='sal7326'),\n Row(white_id='chery'),\n Row(white_id='farnam85'),\n Row(white_id='oxidizenberg'),\n Row(white_id='divendi'),\n Row(white_id='ebrish'),\n Row(white_id='whyshy'),\n Row(white_id='alnkar'),\n Row(white_id='evgenyi'),\n Row(white_id='lowit'),\n Row(white_id='rodrigowski19'),\n Row(white_id='rudra007'),\n Row(white_id='cjajr'),\n Row(white_id='rajan9473139431'),\n Row(white_id='mathmagician'),\n Row(white_id='haythamb'),\n Row(white_id='tleitao'),\n Row(white_id='alexamer'),\n Row(white_id='justdoneit89'),\n Row(white_id='derekkered'),\n Row(white_id='sebplaul'),\n Row(white_id='franklin14532'),\n Row(white_id='pogrib'),\n Row(white_id='withouttroble'),\n Row(white_id='lucaspsy'),\n Row(white_id='ivica014'),\n Row(white_id='hawkwild'),\n Row(white_id='photonic_symmetry'),\n Row(white_id='stereolab'),\n Row(white_id='quicoro'),\n Row(white_id='jasonredford'),\n Row(white_id='briguy86'),\n Row(white_id='mimelam'),\n Row(white_id='avill050'),\n Row(white_id='gondoro'),\n Row(white_id='putin_17'),\n Row(white_id='coldtits'),\n Row(white_id='bailey_trim'),\n Row(white_id='lpardo'),\n Row(white_id='flawed'),\n Row(white_id='sikier'),\n Row(white_id='enigmacode'),\n Row(white_id='von_goom'),\n Row(white_id='helderjacinto'),\n Row(white_id='zoran981'),\n Row(white_id='mix55'),\n Row(white_id='candylover'),\n Row(white_id='killerbrecht'),\n Row(white_id='hephaestion'),\n Row(white_id='heeboell'),\n Row(white_id='robi876'),\n Row(white_id='mwen509'),\n Row(white_id='cesaringy'),\n Row(white_id='bira15'),\n Row(white_id='bubybuby'),\n Row(white_id='peter-bon22'),\n Row(white_id='as1204gj'),\n Row(white_id='darioher'),\n Row(white_id='sknatthh'),\n Row(white_id='bunyamin4647'),\n Row(white_id='marcelods'),\n Row(white_id='ilkerozyurek'),\n Row(white_id='tuldoc'),\n Row(white_id='mirelladp'),\n Row(white_id='matingseason'),\n Row(white_id='king66gio'),\n Row(white_id='tscheezel'),\n Row(white_id='coco2000'),\n Row(white_id='gasdvbn'),\n Row(white_id='guyfd2'),\n Row(white_id='itaj4230'),\n Row(white_id='nanang8231'),\n Row(white_id='alex_1396'),\n Row(white_id='javinator80'),\n Row(white_id='sasalukic69'),\n Row(white_id='bobbyevans'),\n Row(white_id='tanganika'),\n Row(white_id='jm__nfl4l'),\n Row(white_id='bouvard'),\n Row(white_id='novicepatzer'),\n Row(white_id='husref'),\n Row(white_id='tegarindra'),\n Row(white_id='pooperic'),\n Row(white_id='dakotarain'),\n Row(white_id='jamiljjj26'),\n Row(white_id='2700172'),\n Row(white_id='smasherkiller'),\n Row(white_id='goddochen'),\n Row(white_id='sgbarrys'),\n Row(white_id='assasin_creep'),\n Row(white_id='mauro3'),\n Row(white_id='andrewbutov'),\n Row(white_id='masterf00'),\n Row(white_id='proteinbased'),\n Row(white_id='jasmanjack'),\n Row(white_id='clausovitsch'),\n Row(white_id='sergeydianov2573'),\n Row(white_id='ioan12behr34'),\n Row(white_id='khusros'),\n Row(white_id='vslivka'),\n Row(white_id='jackfr0st'),\n Row(white_id='ambitious'),\n Row(white_id='hannah51'),\n Row(white_id='mamaduck'),\n Row(white_id='sebapau89'),\n Row(white_id='purg4tory'),\n Row(white_id='willisand'),\n Row(white_id='hennes'),\n Row(white_id='lemaitre'),\n Row(white_id='macuv'),\n Row(white_id='pmagaji'),\n Row(white_id='kobacb13'),\n Row(white_id='theanswer13'),\n Row(white_id='k-o-p-o-j-e-b-a'),\n Row(white_id='fastloris'),\n Row(white_id='mayshe19'),\n Row(white_id='antonlaza'),\n Row(white_id='erdem'),\n Row(white_id='yorch7'),\n Row(white_id='antoinemorazin'),\n Row(white_id='arfanssianaklangitt'),\n Row(white_id='clavdivs'),\n Row(white_id='harrijuha'),\n Row(white_id='zmijazmaj123'),\n Row(white_id='ralex2010'),\n Row(white_id='bryanay'),\n Row(white_id='wylly'),\n Row(white_id='ehabhaddad'),\n Row(white_id='thekingdomcome'),\n Row(white_id='soltan1800'),\n Row(white_id='fabio_magagnin57'),\n Row(white_id='loren314'),\n Row(white_id='lightningviper'),\n Row(white_id='wtfhsyn'),\n Row(white_id='schchesss'),\n Row(white_id='pikos_004'),\n Row(white_id='bagremsky'),\n Row(white_id='lebeusz'),\n Row(white_id='frankiestomps'),\n Row(white_id='barack01'),\n Row(white_id='ancestorturk'),\n Row(white_id='lukas24'),\n Row(white_id='baruc456'),\n Row(white_id='itchychess'),\n Row(white_id='dangerous1'),\n Row(white_id='speavo'),\n Row(white_id='pecheca'),\n Row(white_id='maarsoo'),\n Row(white_id='lfilipio'),\n Row(white_id='popabear'),\n Row(white_id='redsarov'),\n Row(white_id='dp3000'),\n Row(white_id='kiross2015'),\n Row(white_id='dnowchess'),\n Row(white_id='dronefk'),\n Row(white_id='sevenrain'),\n Row(white_id='alexandro33'),\n Row(white_id='chessastur'),\n Row(white_id='juanpa07'),\n Row(white_id='stilian2000'),\n Row(white_id='79165333785'),\n Row(white_id='smjt'),\n Row(white_id='askar11111'),\n Row(white_id='gazza75'),\n Row(white_id='my_stile0044'),\n Row(white_id='jonathan81'),\n Row(white_id='x-meister'),\n Row(white_id='wasabisensei'),\n Row(white_id='bpgbcg'),\n Row(white_id='dog555'),\n Row(white_id='gabriel21'),\n Row(white_id='corvete'),\n Row(white_id='shlema'),\n Row(white_id='gaana'),\n Row(white_id='govida'),\n Row(white_id='chetkiy'),\n Row(white_id='jackal74'),\n Row(white_id='filiparambasic'),\n Row(white_id='speedey'),\n Row(white_id='vangelis4v'),\n Row(white_id='chukodiman'),\n Row(white_id='alishameli1380'),\n Row(white_id='cerebral'),\n Row(white_id='anakajaib'),\n Row(white_id='shahmatchi'),\n Row(white_id='fingers33'),\n Row(white_id='hido'),\n Row(white_id='meglio_bans'),\n Row(white_id='johnthedon97'),\n Row(white_id='babichecrb'),\n Row(white_id='milthon'),\n Row(white_id='akgs'),\n Row(white_id='radouane'),\n Row(white_id='nicolauchess'),\n Row(white_id='depleas'),\n Row(white_id='pp82'),\n Row(white_id='massaraksy'),\n Row(white_id='datunakhakhiashvli'),\n Row(white_id='ivox100'),\n Row(white_id='adel1969'),\n Row(white_id='scarfachess'),\n Row(white_id='griq333'),\n Row(white_id='vedas'),\n Row(white_id='filixius'),\n Row(white_id='talhachess'),\n Row(white_id='mamadoo68'),\n Row(white_id='nietzschess'),\n Row(white_id='tarunsngh'),\n Row(white_id='gianuzio'),\n Row(white_id='topjimmysunday'),\n Row(white_id='pepette1998'),\n Row(white_id='socrates1981'),\n Row(white_id='noahmelto'),\n Row(white_id='wpc96'),\n Row(white_id='mdaboczi'),\n Row(white_id='ernestillo'),\n Row(white_id='eminn'),\n Row(white_id='joe65'),\n Row(white_id='thib'),\n Row(white_id='casta73'),\n Row(white_id='erfan_yazd'),\n Row(white_id='quercusilex'),\n Row(white_id='kastighos'),\n Row(white_id='calicoder'),\n Row(white_id='kristall63'),\n Row(white_id='jeffersondarcy1'),\n Row(white_id='kamol58'),\n Row(white_id='scottywilliams'),\n Row(white_id='pikutrex'),\n Row(white_id='maxim2009'),\n Row(white_id='lasttry'),\n Row(white_id='amir021021021'),\n Row(white_id='samimi'),\n Row(white_id='lish'),\n Row(white_id='rtrtyey'),\n Row(white_id='coraumou'),\n Row(white_id='jd19eight0'),\n Row(white_id='ivas_kirkorov'),\n Row(white_id='simsive777'),\n Row(white_id='mfumunsakunevunda'),\n Row(white_id='ucantcmeok'),\n Row(white_id='el_pesca'),\n Row(white_id='jaypom11'),\n Row(white_id='ahmedalieldeep'),\n Row(white_id='coni'),\n Row(white_id='devilsquare'),\n Row(white_id='karenesteves2'),\n ...]"
     },
     "execution_count": 7,
     "metadata": {},
     "output_type": "execute_result"
    }
   ],
   "source": [
    "df.select('white_id').union(df.select('black_id')).distinct().collect()"
   ]
  },
  {
   "cell_type": "markdown",
   "source": [],
   "metadata": {
    "collapsed": false,
    "pycharm": {
     "name": "#%% md\n"
    }
   }
  },
  {
   "cell_type": "code",
   "execution_count": 8,
   "outputs": [
    {
     "data": {
      "text/plain": "DataFrame[moves_list: array<string>]"
     },
     "execution_count": 8,
     "metadata": {},
     "output_type": "execute_result"
    }
   ],
   "source": [
    "# split moves from string into list of strings, moves -> [move, move, ...]\n",
    "moves_list_df = df.select(F.split(df.moves, '\\s', -1).alias('moves_list'))\n",
    "moves_list_df#.collect()[0][0]"
   ],
   "metadata": {
    "collapsed": false,
    "pycharm": {
     "name": "#%%\n"
    }
   }
  },
  {
   "cell_type": "code",
   "execution_count": 9,
   "outputs": [
    {
     "data": {
      "text/plain": "DataFrame[joined_corpus: string]"
     },
     "execution_count": 9,
     "metadata": {},
     "output_type": "execute_result"
    }
   ],
   "source": [
    "# (may be useful later) collect all moves into a single corpus\n",
    "moves_agg_df = df.agg(F.collect_list('moves').alias('agg_moves_list'))\n",
    "moves_corpus = moves_agg_df.select(F.array_join(moves_agg_df['agg_moves_list'], ' ').alias('joined_corpus'))\n",
    "moves_corpus#.collect()[0][0]"
   ],
   "metadata": {
    "collapsed": false,
    "pycharm": {
     "name": "#%%\n"
    }
   }
  },
  {
   "cell_type": "code",
   "execution_count": 10,
   "outputs": [],
   "source": [
    "vectorSize = 100\n",
    "word2Vec = Word2Vec(vectorSize=vectorSize, seed=seed, inputCol=\"moves_list\", outputCol=\"model\")"
   ],
   "metadata": {
    "collapsed": false,
    "pycharm": {
     "name": "#%%\n"
    }
   }
  },
  {
   "cell_type": "markdown",
   "source": [
    "Parameters for `Word2Vec`\n",
    "- `vectorSize`: size of the output vector\n",
    "- `minCount`: Ignores all words with total frequency lower than this."
   ],
   "metadata": {
    "collapsed": false,
    "pycharm": {
     "name": "#%% md\n"
    }
   }
  },
  {
   "cell_type": "code",
   "execution_count": 11,
   "outputs": [
    {
     "name": "stdout",
     "output_type": "stream",
     "text": [
      "Trained Word2Vec Model\n",
      "+-----+--------------------+\n",
      "| word|              vector|\n",
      "+-----+--------------------+\n",
      "| Bxd2|[0.20013783872127...|\n",
      "| Nxf6|[-0.0895327404141...|\n",
      "|  a2+|[0.00983080640435...|\n",
      "|axb7+|[-0.0051464270800...|\n",
      "|Bxd5+|[0.15780340135097...|\n",
      "|  Kg8|[-0.0521816425025...|\n",
      "|Nxf2#|[0.01947784796357...|\n",
      "| Kxc2|[-0.1580388545989...|\n",
      "|Ndxf3|[0.03945004194974...|\n",
      "|Nbxd5|[0.13472379744052...|\n",
      "| Qa3#|[0.00832884851843...|\n",
      "|  Nd7|[0.15360243618488...|\n",
      "|  Kh8|[0.22621232271194...|\n",
      "| Rde6|[0.07085786014795...|\n",
      "|Qxg5+|[-0.0990687236189...|\n",
      "| Qe8#|[0.09012200683355...|\n",
      "|Rcg2+|[-0.0437396354973...|\n",
      "|Qxg8+|[0.09917495399713...|\n",
      "| Qxa8|[0.24847991764545...|\n",
      "| Nc5+|[0.05513383820652...|\n",
      "+-----+--------------------+\n",
      "only showing top 20 rows\n",
      "\n"
     ]
    }
   ],
   "source": [
    "model = word2Vec.fit(moves_list_df)\n",
    "print('Trained Word2Vec Model')\n",
    "model.getVectors().show()"
   ],
   "metadata": {
    "collapsed": false,
    "pycharm": {
     "name": "#%%\n"
    }
   }
  },
  {
   "cell_type": "code",
   "execution_count": 12,
   "outputs": [
    {
     "name": "stdout",
     "output_type": "stream",
     "text": [
      "Transformed Moves for the First Match \n"
     ]
    },
    {
     "data": {
      "text/plain": "DenseVector([0.0806, 0.049, 0.0171, 0.094, -0.2188, 0.0144, 0.0062, 0.0342, -0.0275, 0.0866, 0.0437, -0.054, 0.1169, -0.1548, -0.0953, 0.0017, 0.0528, -0.1113, 0.0859, 0.1969, -0.1144, -0.0303, -0.1103, 0.0432, -0.1319, -0.0056, -0.0772, -0.1376, -0.0915, -0.0633, -0.1008, 0.0676, 0.166, -0.1348, 0.1817, -0.0032, 0.0731, 0.0235, 0.0382, -0.0444, -0.0811, 0.0599, 0.0422, -0.1846, -0.2262, -0.0182, -0.1167, 0.1092, -0.0119, 0.2056, -0.11, -0.1343, -0.0981, -0.0275, -0.1241, 0.0801, 0.1296, 0.0306, 0.0335, 0.1004, 0.1729, 0.1424, -0.0856, -0.1352, 0.0709, 0.0421, 0.3001, 0.0955, 0.004, -0.1982, 0.0782, 0.139, 0.0668, 0.1588, -0.106, -0.0414, -0.0703, 0.1176, -0.1553, 0.0089, 0.0285, 0.0383, -0.0568, 0.108, 0.0509, -0.044, 0.0625, -0.052, -0.0909, 0.0422, -0.0683, 0.0577, 0.007, 0.0895, -0.0421, -0.0052, 0.0461, -0.0412, -0.0446, 0.0173])"
     },
     "execution_count": 12,
     "metadata": {},
     "output_type": "execute_result"
    }
   ],
   "source": [
    "print('Transformed Moves for the First Match', f'')\n",
    "model.transform(moves_list_df).head().model"
   ],
   "metadata": {
    "collapsed": false,
    "pycharm": {
     "name": "#%%\n"
    }
   }
  }
 ],
 "metadata": {
  "kernelspec": {
   "display_name": "Python 3 (ipykernel)",
   "language": "python",
   "name": "python3"
  },
  "language_info": {
   "codemirror_mode": {
    "name": "ipython",
    "version": 3
   },
   "file_extension": ".py",
   "mimetype": "text/x-python",
   "name": "python",
   "nbconvert_exporter": "python",
   "pygments_lexer": "ipython3",
   "version": "3.8.12"
  },
  "toc": {
   "base_numbering": 1,
   "nav_menu": {},
   "number_sections": true,
   "sideBar": true,
   "skip_h1_title": false,
   "title_cell": "Table of Contents",
   "title_sidebar": "Contents",
   "toc_cell": false,
   "toc_position": {},
   "toc_section_display": true,
   "toc_window_display": false
  }
 },
 "nbformat": 4,
 "nbformat_minor": 1
}